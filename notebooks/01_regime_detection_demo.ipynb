{
 "cells": [
  {
   "cell_type": "markdown",
   "metadata": {},
   "source": [
    "# Regime Detection Demo\\n",
    "\\n",
    "This notebook demonstrates the core functionality of the QTFinance Markov-Switching Regime Trading System."
   ]
  },
  {
   "cell_type": "code",
   "execution_count": null,
   "metadata": {},
   "outputs": [],
   "source": [
    "# Import required libraries\\n",
    "import sys\\n",
    "sys.path.append('..')\\n",
    "\\n",
    "import pandas as pd\\n",
    "import numpy as np\\n",
    "import matplotlib.pyplot as plt\\n",
    "import seaborn as sns\\n",
    "\\n",
    "# Import QTFinance modules\\n",
    "from src.data.loaders import YFinanceLoader\\n",
    "from src.data.features import FeatureEngineer\\n",
    "from src.data.validation import DataValidator\\n",
    "from src.regime_detection.hmm_models import RegimeDetector\\n",
    "from src.regime_detection.regime_filters import RegimeFilter\\n",
    "from src.strategies.momentum import MomentumStrategy\\n",
    "from src.utils.config import ConfigLoader\\n",
    "\\n",
    "# Set plotting style\\n",
    "plt.style.use('seaborn-v0_8')\\n",
    "%matplotlib inline"
   ]
  },
  {
   "cell_type": "markdown",
   "metadata": {},
   "source": [
    "## 1. Load Configuration"
   ]
  },
  {
   "cell_type": "code",
   "execution_count": null,
   "metadata": {},
   "outputs": [],
   "source": [
    "# Load configuration\\n",
    "config_loader = ConfigLoader('../configs')\\n",
    "config = config_loader.load_config('base_config.yaml')\\n",
    "\\n",
    "print(\\\"Configuration loaded successfully!\\\")\\n",
    "print(f\\\"Number of regimes: {config['regime_detection']['n_regimes']}\\\")\\n",
    "print(f\\\"Min regime duration: {config['regime_detection']['min_regime_duration']} days\\\")"
   ]
  },
  {
   "cell_type": "markdown",
   "metadata": {},
   "source": [
    "## 2. Fetch Market Data"
   ]
  },
  {
   "cell_type": "code",
   "execution_count": null,
   "metadata": {},
   "outputs": [],
   "source": [
    "# Initialize data loader\\n",
    "loader = YFinanceLoader()\\n",
    "\\n",
    "# Fetch S&P 500 data\\n",
    "symbols = ['SPY']  # S&P 500 ETF\\n",
    "start_date = '2010-01-01'\\n",
    "end_date = '2023-12-31'\\n",
    "\\n",
    "print(f\\\"Fetching data for {symbols} from {start_date} to {end_date}...\\\")\\n",
    "data = loader.fetch_data(symbols, start_date, end_date)\\n",
    "\\n",
    "print(f\\\"Data shape: {data.shape}\\\")\\n",
    "print(f\\\"Columns: {data.columns.tolist()}\\\")\\n",
    "data.head()"
   ]
  },
  {
   "cell_type": "markdown",
   "metadata": {},
   "source": [
    "## 3. Validate Data Quality"
   ]
  },
  {
   "cell_type": "code",
   "execution_count": null,
   "metadata": {},
   "outputs": [],
   "source": [
    "# Validate data\\n",
    "validator = DataValidator()\\n",
    "is_valid, issues = validator.validate_ohlcv(data)\\n",
    "\\n",
    "if is_valid:\\n",
    "    print(\\\"✅ Data validation passed!\\\")\\n",
    "else:\\n",
    "    print(\\\"❌ Data validation issues:\\\")\\n",
    "    for issue in issues:\\n",
    "        print(f\\\"  - {issue}\\\")\\n",
    "        \\n",
    "# Clean data if needed\\n",
    "if not is_valid:\\n",
    "    print(\\\"\\\\nCleaning data...\\\")\\n",
    "    data = validator.clean_data(data)\\n",
    "    print(\\\"Data cleaned successfully!\\\")"
   ]
  },
  {
   "cell_type": "markdown",
   "metadata": {},
   "source": [
    "## 4. Feature Engineering"
   ]
  },
  {
   "cell_type": "code",
   "execution_count": null,
   "metadata": {},
   "outputs": [],
   "source": [
    "# Engineer features for regime detection\\n",
    "engineer = FeatureEngineer()\\n",
    "\\n",
    "# Extract features\\n",
    "features, feature_names = engineer.engineer_features(\\n",
    "    data,\\n",
    "    feature_groups=['price', 'statistical', 'regime']\\n",
    ")\\n",
    "\\n",
    "print(f\\\"Engineered {len(feature_names)} features:\\\")\\n",
    "for i, name in enumerate(feature_names[:10]):\\n",
    "    print(f\\\"  {i+1}. {name}\\\")\\n",
    "print(\\\"  ...\\\")\\n",
    "\\n",
    "# Display feature correlation\\n",
    "plt.figure(figsize=(12, 10))\\n",
    "sns.heatmap(features.corr(), cmap='coolwarm', center=0, annot=False)\\n",
    "plt.title('Feature Correlation Matrix')\\n",
    "plt.tight_layout()\\n",
    "plt.show()"
   ]
  },
  {
   "cell_type": "markdown",
   "metadata": {},
   "source": [
    "## 5. Regime Detection"
   ]
  },
  {
   "cell_type": "code",
   "execution_count": null,
   "metadata": {},
   "outputs": [],
   "source": [
    "# Initialize regime detector\\n",
    "detector = RegimeDetector(\\n",
    "    primary_model='hmm',\\n",
    "    n_regimes=3,\\n",
    "    validation_model='markov'\\n",
    ")\\n",
    "\\n",
    "# Fit the model\\n",
    "print(\\\"Fitting regime detection model...\\\")\\n",
    "detector.fit(data, features)\\n",
    "\\n",
    "# Predict regimes\\n",
    "regimes = detector.predict(data, features)\\n",
    "regime_probs = detector.predict_proba(data, features)\\n",
    "\\n",
    "print(\\\"\\\\nRegime distribution:\\\")\\n",
    "print(regimes.value_counts().sort_index())\\n",
    "print(\\\"\\\\nRegime labels:\\\")\\n",
    "print(\\\"  0: Bear Market\\\")\\n",
    "print(\\\"  1: Neutral Market\\\")\\n",
    "print(\\\"  2: Bull Market\\\")"
   ]
  },
  {
   "cell_type": "markdown",
   "metadata": {},
   "source": [
    "## 6. Apply Regime Filtering"
   ]
  },
  {
   "cell_type": "code",
   "execution_count": null,
   "metadata": {},
   "outputs": [],
   "source": [
    "# Apply regime filtering to reduce whipsaws\\n",
    "filter = RegimeFilter(\\n",
    "    min_regime_duration=5,\\n",
    "    probability_threshold=0.7\\n",
    ")\\n",
    "\\n",
    "# Filter regimes\\n",
    "filtered_regimes = filter.filter_regimes(regimes, regime_probs)\\n",
    "\\n",
    "# Compare before and after filtering\\n",
    "print(\\\"Regime changes before filtering:\\\", (regimes.diff() != 0).sum())\\n",
    "print(\\\"Regime changes after filtering:\\\", (filtered_regimes.diff() != 0).sum())"
   ]
  },
  {
   "cell_type": "markdown",
   "metadata": {},
   "source": [
    "## 7. Visualize Regimes"
   ]
  },
  {
   "cell_type": "code",
   "execution_count": null,
   "metadata": {},
   "outputs": [],
   "source": [
    "# Create regime visualization\\n",
    "fig, axes = plt.subplots(3, 1, figsize=(15, 10), sharex=True)\\n",
    "\\n",
    "# Plot 1: Price with regime coloring\\n",
    "ax1 = axes[0]\\n",
    "prices = data['Close']['SPY']\\n",
    "\\n",
    "# Color by regime\\n",
    "colors = {0: 'red', 1: 'gray', 2: 'green'}\\n",
    "regime_names = {0: 'Bear', 1: 'Neutral', 2: 'Bull'}\\n",
    "\\n",
    "for regime in [0, 1, 2]:\\n",
    "    mask = filtered_regimes == regime\\n",
    "    ax1.plot(prices[mask], 'o', color=colors[regime], alpha=0.3, markersize=2, label=regime_names[regime])\\n",
    "\\n",
    "ax1.plot(prices, 'k-', linewidth=0.5, alpha=0.5)\\n",
    "ax1.set_ylabel('SPY Price ($)')\\n",
    "ax1.set_title('S&P 500 Price with Regime Classification')\\n",
    "ax1.legend()\\n",
    "ax1.grid(True, alpha=0.3)\\n",
    "\\n",
    "# Plot 2: Regime probabilities\\n",
    "ax2 = axes[1]\\n",
    "regime_probs.plot(ax=ax2, alpha=0.7)\\n",
    "ax2.set_ylabel('Probability')\\n",
    "ax2.set_title('Regime Probabilities')\\n",
    "ax2.legend(['Bear', 'Neutral', 'Bull'])\\n",
    "ax2.grid(True, alpha=0.3)\\n",
    "\\n",
    "# Plot 3: Returns by regime\\n",
    "ax3 = axes[2]\\n",
    "returns = prices.pct_change()\\n",
    "\\n",
    "for regime in [0, 1, 2]:\\n",
    "    mask = filtered_regimes == regime\\n",
    "    ax3.scatter(returns.index[mask], returns[mask], color=colors[regime], alpha=0.5, s=10, label=regime_names[regime])\\n",
    "\\n",
    "ax3.axhline(y=0, color='black', linestyle='-', alpha=0.3)\\n",
    "ax3.set_ylabel('Daily Returns')\\n",
    "ax3.set_xlabel('Date')\\n",
    "ax3.set_title('Daily Returns by Regime')\\n",
    "ax3.legend()\\n",
    "ax3.grid(True, alpha=0.3)\\n",
    "\\n",
    "plt.tight_layout()\\n",
    "plt.show()"
   ]
  },
  {
   "cell_type": "markdown",
   "metadata": {},
   "source": [
    "## 8. Regime Statistics"
   ]
  },
  {
   "cell_type": "code",
   "execution_count": null,
   "metadata": {},
   "outputs": [],
   "source": [
    "# Calculate regime statistics\\n",
    "from src.regime_detection.regime_filters import RegimePersistence\\n",
    "\\n",
    "persistence = RegimePersistence()\\n",
    "regime_stats = persistence.calculate_persistence_stats(filtered_regimes)\\n",
    "\\n",
    "# Display statistics\\n",
    "for regime, stats in regime_stats.items():\\n",
    "    if regime != 'overall':\\n",
    "        print(f\\\"\\\\n{regime} Regime Statistics:\\\")\\n",
    "        print(f\\\"  - Percentage of time: {stats['percentage']:.1f}%\\\")\\n",
    "        print(f\\\"  - Average duration: {stats['mean_duration']:.1f} days\\\")\\n",
    "        print(f\\\"  - Number of occurrences: {stats['count']}\\\")\\n",
    "        \\n",
    "        # Calculate returns statistics\\n",
    "        regime_returns = returns[filtered_regimes == regime]\\n",
    "        print(f\\\"  - Average daily return: {regime_returns.mean()*100:.3f}%\\\")\\n",
    "        print(f\\\"  - Daily volatility: {regime_returns.std()*100:.3f}%\\\")\\n",
    "        print(f\\\"  - Annualized Sharpe: {np.sqrt(252) * regime_returns.mean() / regime_returns.std():.2f}\\\")"
   ]
  },
  {
   "cell_type": "markdown",
   "metadata": {},
   "source": [
    "## 9. Generate Trading Signals"
   ]
  },
  {
   "cell_type": "code",
   "execution_count": null,
   "metadata": {},
   "outputs": [],
   "source": [
    "# Initialize momentum strategy\\n",
    "momentum = MomentumStrategy(config['strategies']['momentum'])\\n",
    "\\n",
    "# Generate signals\\n",
    "signals = momentum.generate_signals(data, filtered_regimes)\\n",
    "\\n",
    "# Calculate positions with risk management\\n",
    "capital = 100000  # $100k starting capital\\n",
    "positions = momentum.calculate_positions(\\n",
    "    signals, \\n",
    "    capital, \\n",
    "    risk_params=config['risk']\\n",
    ")\\n",
    "\\n",
    "print(\\\"Signal generation complete!\\\")\\n",
    "print(f\\\"Total buy signals: {(signals['momentum_signal'] > 0).sum()}\\\")\\n",
    "print(f\\\"Total sell signals: {(signals['momentum_signal'] < 0).sum()}\\\")"
   ]
  },
  {
   "cell_type": "markdown",
   "metadata": {},
   "source": [
    "## 10. Performance Analysis"
   ]
  },
  {
   "cell_type": "code",
   "execution_count": null,
   "metadata": {},
   "outputs": [],
   "source": [
    "# Calculate strategy performance\\n",
    "strategy_returns = returns * signals['momentum_position'].shift(1)\\n",
    "\\n",
    "# Calculate cumulative returns\\n",
    "cum_returns = (1 + strategy_returns).cumprod()\\n",
    "cum_market = (1 + returns).cumprod()\\n",
    "\\n",
    "# Plot cumulative returns\\n",
    "plt.figure(figsize=(15, 6))\\n",
    "plt.plot(cum_returns.index, cum_returns, label='Strategy', linewidth=2)\\n",
    "plt.plot(cum_market.index, cum_market, label='Buy & Hold SPY', linewidth=2, alpha=0.7)\\n",
    "\\n",
    "# Shade regime periods\\n",
    "for regime in [0, 1, 2]:\\n",
    "    mask = filtered_regimes == regime\\n",
    "    plt.fill_between(cum_returns.index, 0, cum_returns.max()*1.1, \\n",
    "                     where=mask, alpha=0.1, color=colors[regime])\\n",
    "\\n",
    "plt.ylabel('Cumulative Returns')\\n",
    "plt.xlabel('Date')\\n",
    "plt.title('Strategy Performance vs Buy & Hold')\\n",
    "plt.legend()\\n",
    "plt.grid(True, alpha=0.3)\\n",
    "plt.show()\\n",
    "\\n",
    "# Calculate metrics\\n",
    "metrics = momentum.calculate_performance_metrics(returns, signals['momentum_position'], benchmark=returns)\\n",
    "\\n",
    "print(\\\"\\\\nPerformance Metrics:\\\")\\n",
    "for metric, value in metrics.items():\\n",
    "    if 'return' in metric:\\n",
    "        print(f\\\"{metric}: {value*100:.2f}%\\\")\\n",
    "    elif 'ratio' in metric:\\n",
    "        print(f\\\"{metric}: {value:.2f}\\\")\\n",
    "    else:\\n",
    "        print(f\\\"{metric}: {value:.2f}\\\")"
   ]
  },
  {
   "cell_type": "markdown",
   "metadata": {},
   "source": [
    "## Summary\\n",
    "\\n",
    "This notebook demonstrated:\\n",
    "1. Loading and validating market data\\n",
    "2. Engineering features for regime detection\\n",
    "3. Detecting market regimes using Hidden Markov Models\\n",
    "4. Filtering regimes to reduce whipsaws\\n",
    "5. Generating trading signals based on regimes\\n",
    "6. Analyzing strategy performance\\n",
    "\\n",
    "The regime-based approach helps adapt strategies to changing market conditions, potentially improving risk-adjusted returns."
   ]
  }
 ],
 "metadata": {
  "kernelspec": {
   "display_name": "Python 3",
   "language": "python",
   "name": "python3"
  },
  "language_info": {
   "codemirror_mode": {
    "name": "ipython",
    "version": 3
   },
   "file_extension": ".py",
   "mimetype": "text/x-python",
   "name": "python",
   "nbconvert_exporter": "python",
   "pygments_lexer": "ipython3",
   "version": "3.9.0"
  }
 },
 "nbformat": 4,
 "nbformat_minor": 4
}